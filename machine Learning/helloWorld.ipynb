{
 "cells": [
  {
   "cell_type": "code",
   "execution_count": 49,
   "metadata": {},
   "outputs": [],
   "source": [
    "\n",
    "import numpy as np\n",
    "import tensorflow as tf\n",
    "from tensorflow import keras\n",
    "from tensorflow.keras import layers\n",
    "import matplotlib.pyplot as plt\n",
    "\n",
    "import json\n",
    "\n"
   ]
  },
  {
   "cell_type": "code",
   "execution_count": 50,
   "metadata": {},
   "outputs": [
    {
     "name": "stdout",
     "output_type": "stream",
     "text": [
      "2.5.0\n",
      "Found 18 files belonging to 1 classes.\n",
      "Using 13 files for training.\n",
      "Found 18 files belonging to 1 classes.\n",
      "Using 5 files for validation.\n",
      "<BatchDataset shapes: ((None, 32, 32, 3), (None, 5)), types: (tf.float32, tf.float32)> <BatchDataset shapes: ((None, 32, 32, 3), (None, 5)), types: (tf.float32, tf.int32)> train image samples\n"
     ]
    }
   ],
   "source": [
    "# import os\n",
    "# import tensorflow_datasets as tfds\n",
    "# from PIL import Image\n",
    "# print(tf.__version__)\n",
    "# input_shape = (32, 32, 3)\n",
    "\n",
    "inputFolder = \"data_20/\"\n",
    "\n",
    "# labelsJson = None\n",
    "# with open(inputFolder+'labels.json') as json_file:\n",
    "#     labelsJson = json.load(json_file)\n",
    "\n",
    "# labelsJson=list(map(lambda x: np.asarray(x), labelsJson))\n",
    "\n",
    "# images=[]\n",
    "# for filename in os.listdir(inputFolder+\"images\"):\n",
    "#     images.append(np.array(Image.open(\n",
    "#         inputFolder+\"images/\"+filename).convert(\"RGB\")).flatten())\n",
    "# images = images\n",
    "\n",
    "# train_ds = list(zip(images[0:4], labelsJson[0:4]))\n",
    "# test_ds = list(zip(images[5:], labelsJson[5:]))\n",
    "# #print(train_ds, test_ds, \"train image samples\")\n",
    "print(tf.__version__)\n",
    "input_shape = (32, 32, 3)\n",
    "\n",
    "labelsJson = None\n",
    "with open(inputFolder+'labels.json') as json_file:\n",
    "    labelsJson = json.load(json_file)\n",
    "\n",
    "train_ds = tf.keras.preprocessing.image_dataset_from_directory(\n",
    "    directory=inputFolder,\n",
    "    labels=labelsJson,\n",
    "    validation_split=0.3,\n",
    "    subset=\"training\",\n",
    "    shuffle=False,\n",
    "    seed=123,\n",
    "    image_size=(32, 32),\n",
    "    batch_size=1)\n",
    "test_ds = tf.keras.preprocessing.image_dataset_from_directory(\n",
    "    directory=inputFolder,\n",
    "    labels=labelsJson,\n",
    "    validation_split=0.3,\n",
    "    subset=\"validation\",\n",
    "    shuffle=False,\n",
    "    seed=123,\n",
    "    image_size=(32, 32),\n",
    "    batch_size=1)\n",
    "print(train_ds, test_ds, \"train image samples\")\n"
   ]
  },
  {
   "cell_type": "code",
   "execution_count": 57,
   "metadata": {},
   "outputs": [
    {
     "name": "stdout",
     "output_type": "stream",
     "text": [
      "(32, 32, 3)\n"
     ]
    }
   ],
   "source": []
  },
  {
   "cell_type": "code",
   "execution_count": 51,
   "metadata": {},
   "outputs": [
    {
     "name": "stdout",
     "output_type": "stream",
     "text": [
      "WARNING:tensorflow:Please add `keras.layers.InputLayer` instead of `keras.Input` to Sequential model. `keras.Input` is intended to be used by Functional model.\n",
      "Model: \"sequential_5\"\n",
      "_________________________________________________________________\n",
      "Layer (type)                 Output Shape              Param #   \n",
      "=================================================================\n",
      "conv2d_10 (Conv2D)           (None, 30, 30, 32)        896       \n",
      "_________________________________________________________________\n",
      "max_pooling2d_10 (MaxPooling (None, 15, 15, 32)        0         \n",
      "_________________________________________________________________\n",
      "conv2d_11 (Conv2D)           (None, 13, 13, 64)        18496     \n",
      "_________________________________________________________________\n",
      "max_pooling2d_11 (MaxPooling (None, 6, 6, 64)          0         \n",
      "_________________________________________________________________\n",
      "flatten_5 (Flatten)          (None, 2304)              0         \n",
      "_________________________________________________________________\n",
      "dropout_5 (Dropout)          (None, 2304)              0         \n",
      "_________________________________________________________________\n",
      "dense_15 (Dense)             (None, 20)                46100     \n",
      "_________________________________________________________________\n",
      "dense_16 (Dense)             (None, 10)                210       \n",
      "_________________________________________________________________\n",
      "dense_17 (Dense)             (None, 5)                 55        \n",
      "=================================================================\n",
      "Total params: 65,757\n",
      "Trainable params: 65,757\n",
      "Non-trainable params: 0\n",
      "_________________________________________________________________\n"
     ]
    }
   ],
   "source": [
    "model = keras.Sequential(\n",
    "    [\n",
    "        keras.Input(shape=input_shape),\n",
    "        layers.Conv2D(32, kernel_size=(3, 3), activation=\"relu\"),\n",
    "        layers.MaxPooling2D(pool_size=(2, 2)),\n",
    "        layers.Conv2D(64, kernel_size=(3, 3), activation=\"relu\"),\n",
    "        layers.MaxPooling2D(pool_size=(2, 2)),\n",
    "        layers.Flatten(),\n",
    "        layers.Dropout(0.5),\n",
    "        layers.Dense(20, activation=\"relu\"),\n",
    "        layers.Dense(10, activation=\"relu\"),\n",
    "        layers.Dense(5, activation=\"linear\"),\n",
    "    ]\n",
    ")\n",
    "\n",
    "model.summary()\n"
   ]
  },
  {
   "cell_type": "code",
   "execution_count": null,
   "metadata": {},
   "outputs": [],
   "source": []
  },
  {
   "cell_type": "code",
   "execution_count": 52,
   "metadata": {},
   "outputs": [
    {
     "name": "stdout",
     "output_type": "stream",
     "text": [
      "Epoch 1/20\n",
      "13/13 [==============================] - 1s 19ms/step - loss: 426.7803 - val_loss: 12.2178\n",
      "Epoch 2/20\n",
      "13/13 [==============================] - 0s 11ms/step - loss: 127.4398 - val_loss: 20.9158\n",
      "Epoch 3/20\n",
      "13/13 [==============================] - 0s 10ms/step - loss: 25.2630 - val_loss: 16.4188\n",
      "Epoch 4/20\n",
      "13/13 [==============================] - 0s 10ms/step - loss: 22.5342 - val_loss: 5.4911\n",
      "Epoch 5/20\n",
      "13/13 [==============================] - 0s 10ms/step - loss: 13.3939 - val_loss: 10.5379\n",
      "Epoch 6/20\n",
      "13/13 [==============================] - 0s 11ms/step - loss: 5.5501 - val_loss: 1.4657\n",
      "Epoch 7/20\n",
      "13/13 [==============================] - 0s 10ms/step - loss: 8.4153 - val_loss: 1.4546\n",
      "Epoch 8/20\n",
      "13/13 [==============================] - 0s 10ms/step - loss: 4.0806 - val_loss: 1.7358\n",
      "Epoch 9/20\n",
      "13/13 [==============================] - 0s 9ms/step - loss: 7.1830 - val_loss: 2.0814\n",
      "Epoch 10/20\n",
      "13/13 [==============================] - 0s 9ms/step - loss: 1.4199 - val_loss: 1.6591\n",
      "Epoch 11/20\n",
      "13/13 [==============================] - 0s 10ms/step - loss: 2.4270 - val_loss: 1.2384\n",
      "Epoch 12/20\n",
      "13/13 [==============================] - 0s 10ms/step - loss: 1.9755 - val_loss: 1.6042\n",
      "Epoch 13/20\n",
      "13/13 [==============================] - 0s 10ms/step - loss: 1.0726 - val_loss: 1.7138\n",
      "Epoch 14/20\n",
      "13/13 [==============================] - 0s 9ms/step - loss: 1.1170 - val_loss: 1.3863\n",
      "Epoch 15/20\n",
      "13/13 [==============================] - 0s 10ms/step - loss: 0.7786 - val_loss: 0.7522\n",
      "Epoch 16/20\n",
      "13/13 [==============================] - 0s 10ms/step - loss: 1.3390 - val_loss: 0.7986\n",
      "Epoch 17/20\n",
      "13/13 [==============================] - 0s 11ms/step - loss: 0.6879 - val_loss: 0.8010\n",
      "Epoch 18/20\n",
      "13/13 [==============================] - 0s 10ms/step - loss: 0.6717 - val_loss: 0.7277\n",
      "Epoch 19/20\n",
      "13/13 [==============================] - 0s 9ms/step - loss: 0.5309 - val_loss: 0.5484\n",
      "Epoch 20/20\n",
      "13/13 [==============================] - 0s 10ms/step - loss: 0.9661 - val_loss: 0.5022\n"
     ]
    }
   ],
   "source": [
    "epochs = 20\n",
    "batch_size=1\n",
    "\n",
    "model.compile(loss=\"mean_squared_error\",\n",
    "              optimizer=tf.keras.optimizers.Adam(learning_rate=0.001))\n",
    "\n",
    "history = model.fit(\n",
    "    train_ds,\n",
    "    validation_data=test_ds,\n",
    "    #x=np.expand_dims(images, axis=0),\n",
    "    #y=np.expand_dims(labelsJson, axis=0),\n",
    "    batch_size=batch_size,\n",
    "    epochs=epochs,\n",
    ")"
   ]
  },
  {
   "cell_type": "code",
   "execution_count": 53,
   "metadata": {},
   "outputs": [
    {
     "data": {
      "image/png": "[encoded data removed]",
      "text/plain": [
       "<Figure size 720x360 with 1 Axes>"
      ]
     },
     "metadata": {
      "needs_background": "light"
     },
     "output_type": "display_data"
    }
   ],
   "source": [
    "\n",
    "plt.rcParams['figure.figsize'] = [10, 5]\n",
    "def plot_loss(history):\n",
    "  plt.plot(history.history['loss'], label='loss')\n",
    "  plt.plot(history.history['val_loss'], label='val_loss')\n",
    "  plt.xlabel('Epoch')\n",
    "  plt.ylabel('Error')\n",
    "  plt.legend()\n",
    "  plt.grid(True)\n",
    "\n",
    "\n",
    "plot_loss(history)\n"
   ]
  },
  {
   "cell_type": "code",
   "execution_count": 54,
   "metadata": {},
   "outputs": [
    {
     "name": "stdout",
     "output_type": "stream",
     "text": [
      "Test loss: 0.502207338809967\n"
     ]
    }
   ],
   "source": [
    "score = model.evaluate(test_ds, verbose=0)\n",
    "print(\"Test loss:\", score)\n",
    "#print(\"Test accuracy:\", score[1])\n"
   ]
  },
  {
   "cell_type": "code",
   "execution_count": 55,
   "metadata": {},
   "outputs": [],
   "source": [
    "#print(train_ds[0])\n",
    "#plt.imshow(images[x].numpy().astype(\"uint8\"))\n",
    "#plt.title(\n",
    "#    \"{:.4f} / {:.4f}\".format(labels[x].numpy()[3], model.predict(images)[0][0]))\n",
    "#plt.axis(\"off\")\n"
   ]
  },
  {
   "cell_type": "code",
   "execution_count": 56,
   "metadata": {},
   "outputs": [
    {
     "data": {
      "image/png": "[encoded data removed]",
      "text/plain": [
       "<Figure size 1080x1080 with 18 Axes>"
      ]
     },
     "metadata": {
      "needs_background": "light"
     },
     "output_type": "display_data"
    }
   ],
   "source": [
    "# plt.rcParams['figure.figsize'] = [15, 15]\n",
    "# for i in range(49):\n",
    "#     plt.subplot(7, 7, i+1)\n",
    "#     plt.imshow(x_test[i].reshape(28, 28), cmap='gray', interpolation='none')\n",
    "#     plt.axis('off')\n",
    "#     plt.title(\"{}, is: {:.2f}\".format(\n",
    "#         y_test[i], model.predict(x_test[i:i+1])[0][0],2))\n",
    "\n",
    "plt.rcParams['figure.figsize'] = [15, 15]\n",
    "i=0\n",
    "for images, labels in train_ds:\n",
    "    i=i+1\n",
    "    ax = plt.subplot(6, 6, i)\n",
    "    plt.imshow(images[0].numpy().astype(\"uint8\"))\n",
    "    plt.title(\n",
    "        \"is:{:.2f}, pred:{:.2f}\".format(labels[0].numpy()[3], model.predict(images)[0][0]))\n",
    "    plt.axis(\"off\")\n",
    "i = i+1\n",
    "for images, labels in test_ds:\n",
    "    i = i+1\n",
    "    ax = plt.subplot(6, 6, i)\n",
    "    plt.imshow(images[0].numpy().astype(\"uint8\"))\n",
    "    plt.title(\n",
    "        \"is:{:.2f}, pred:{:.2f}\".format(labels[0].numpy()[3], model.predict(images)[0][0]))\n",
    "    plt.axis(\"off\")\n"
   ]
  }
 ],
 "metadata": {
  "interpreter": {
   "hash": "a7141cf8f0da27e719a4eac1ce20a74a0a3f259bb59ced17d809f0f971ac1c65"
  },
  "kernelspec": {
   "display_name": "Python 3.7.11 64-bit ('MLEnv': conda)",
   "language": "python",
   "name": "python3"
  },
  "language_info": {
   "codemirror_mode": {
    "name": "ipython",
    "version": 3
   },
   "file_extension": ".py",
   "mimetype": "text/x-python",
   "name": "python",
   "nbconvert_exporter": "python",
   "pygments_lexer": "ipython3",
   "version": "3.9.7"
  },
  "orig_nbformat": 4
 },
 "nbformat": 4,
 "nbformat_minor": 2
}
